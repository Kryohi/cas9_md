{
 "cells": [
  {
   "cell_type": "code",
   "execution_count": 1,
   "id": "7d51e418",
   "metadata": {},
   "outputs": [],
   "source": [
    "# Generic libraries\n",
    "import numpy as np\n",
    "import pandas as pd\n",
    "import scipy as sp\n",
    "import tqdm\n",
    "import seaborn as sns\n",
    "from itertools import product\n",
    "import inspect\n",
    "import multiprocessing\n",
    "import time\n",
    "import os\n",
    "import glob\n",
    "import ipympl\n",
    "\n",
    "%matplotlib widget\n",
    "import matplotlib.pyplot as plt\n",
    "plt.style.use('seaborn-deep')\n",
    "\n",
    "from mpl_toolkits.mplot3d import Axes3D\n",
    "import matplotlib.ticker as mtick\n",
    "from collections import namedtuple\n",
    "from tabulate import tabulate\n",
    "from IPython.display import Latex\n",
    "from IPython.display import HTML\n",
    "from IPython.core.pylabtools import figsize\n",
    "from matplotlib import rc\n"
   ]
  },
  {
   "cell_type": "code",
   "execution_count": 2,
   "id": "14bcaff3",
   "metadata": {},
   "outputs": [],
   "source": [
    "# MDAnalysis\n",
    "import MDAnalysis as mda\n",
    "from MDAnalysis.analysis.rms import rmsd\n",
    "from MDAnalysis.analysis.rms import RMSF\n",
    "from MDAnalysis.analysis import diffusionmap, align, rms\n",
    "from MDAnalysis.coordinates.base import Timestep\n",
    "from MDAnalysis.analysis import contacts\n",
    "from MDAnalysis.lib import distances\n",
    "from MDAnalysis.analysis.base import analysis_class\n",
    "from MDAnalysis.lib.distances import capped_distance, self_capped_distance\n",
    "from MDAnalysis.lib.distances import distance_array, self_distance_array\n",
    "import MDAnalysis.analysis.hydrogenbonds as hb"
   ]
  },
  {
   "cell_type": "code",
   "execution_count": 3,
   "id": "ca9422dc",
   "metadata": {},
   "outputs": [],
   "source": [
    "## autocorrelation estimate\n",
    "def autocorrelation(x):\n",
    "    n = len(x)\n",
    "    variance = x.var()\n",
    "    x = x-x.mean()\n",
    "    #r = np.array([(x[:n-k]*x[-(n-k):]).sum() for k in range(n)]) #slow method using the definition\n",
    "    r = np.correlate(x, x, mode = 'full')[-n:] # fast method, same result!\n",
    "    result = r/(variance*(np.arange(n, 0, -1)))\n",
    "    return result"
   ]
  },
  {
   "cell_type": "code",
   "execution_count": 4,
   "id": "8a3664ff",
   "metadata": {},
   "outputs": [],
   "source": [
    "## Import common data (e.g. pdb and psf files)\n",
    "from pathlib import Path\n",
    "simdir = Path('../data/00-external/')\n",
    "PDB = simdir / '5Y36.pdb'\n",
    "GRO = simdir / '5Y36_box.gro'\n",
    "\n",
    "# set paths for output\n",
    "plotpath = \"../plots/\"\n",
    "datapath = \"../data/analysis/\"\n",
    "output_name = \"prod_global_\"\n"
   ]
  },
  {
   "cell_type": "code",
   "execution_count": 5,
   "id": "07cb989e",
   "metadata": {},
   "outputs": [
    {
     "name": "stdout",
     "output_type": "stream",
     "text": [
      "22526 protein atoms\n",
      "box dimensions: [183.38486  183.38486  183.38478   60.000008  60.000008  90.      ]\n",
      "6401 frames\n",
      "320.0 ns\n"
     ]
    },
    {
     "name": "stderr",
     "output_type": "stream",
     "text": [
      "/home/kryohi/.miniconda3/envs/mdanal/lib/python3.9/site-packages/MDAnalysis/coordinates/XDR.py:215: UserWarning: Reload offsets from trajectory\n",
      " ctime or size or n_atoms did not match\n",
      "  warnings.warn(\"Reload offsets from trajectory\\n \"\n"
     ]
    }
   ],
   "source": [
    "## import full trajectory data \n",
    "trajdir = '../data/04-prod/'\n",
    "XTC  = trajdir + 'cas9_prod_pbc_all.xtc'\n",
    "\n",
    "## universe creation\n",
    "u = mda.Universe(str(GRO), str(XTC))\n",
    "#u_new = u.copy() # used as a reference in memory for mapping calculations\n",
    "#ref0 = mda.Universe(str(GRO))\n",
    "print(u.select_atoms(\"protein or name MG\").n_atoms, 'protein atoms')\n",
    "\n",
    "# other info\n",
    "box = u.dimensions\n",
    "print('box dimensions:', box)\n",
    "nframes = u.trajectory.n_frames\n",
    "print(nframes, 'frames')\n",
    "dt = u.trajectory.dt # ns per frame, equal to nstxout*0.002\n",
    "time = np.arange(0, dt*nframes, dt)\n",
    "t_ns = time / 1000\n",
    "print(t_ns[-1], 'ns')\n"
   ]
  },
  {
   "cell_type": "markdown",
   "id": "01f4812d",
   "metadata": {},
   "source": [
    "## RMSD\n",
    "\n"
   ]
  },
  {
   "cell_type": "code",
   "execution_count": null,
   "id": "8f9dfa15",
   "metadata": {},
   "outputs": [],
   "source": [
    "\n",
    "stride = 1\n",
    "reduced_index = list(range(0, nframes-1, stride))\n",
    "ref_start = [u.select_atoms('protein and name CA').positions for ts in u.trajectory[0:1]][0]\n",
    "\n",
    "rmsd_b = [rmsd(u.select_atoms('protein and name CA').positions, ref_start, \\\n",
    "                  center=True, superposition=True) for ts in u.trajectory[reduced_index]]\n"
   ]
  },
  {
   "cell_type": "code",
   "execution_count": null,
   "id": "d66c9ae3",
   "metadata": {},
   "outputs": [],
   "source": [
    "# plot of the backbone RMSD\n",
    "fig = plt.figure()\n",
    "\n",
    "plt.plot(t_ns[stride:-1:stride], rmsd_b[0:-1], lw=0.75)\n",
    "\n",
    "plt.xlabel('Time [ns]')\n",
    "plt.ylabel(r'RMSD [$\\AA$]')\n",
    "plt.title(r'RMSD of the C$\\alpha$')\n",
    "plt.ylim(bottom=2)\n",
    "plt.grid()\n",
    "#plt.legend()\n",
    "#plt.autoscale(tight=True)\n",
    "plt.show()\n",
    "plt.savefig(os.path.join(plotpath, output_name+'rmsd_protein.pdf'))"
   ]
  },
  {
   "cell_type": "code",
   "execution_count": null,
   "id": "09a516e0",
   "metadata": {},
   "outputs": [],
   "source": [
    "stride = 1\n",
    "reduced_index = list(range(1, nframes, stride))\n",
    "\n",
    "ref_start = [u.select_atoms('(nucleic and name P)').positions \\\n",
    "             for ts in u.trajectory[0:1]][0]\n",
    "\n",
    "rmsd_bn = [rmsd(u.select_atoms('(nucleic and name P)').positions, ref_start, \\\n",
    "                  center=True, superposition=True) for ts in u.trajectory[reduced_index]]\n"
   ]
  },
  {
   "cell_type": "code",
   "execution_count": null,
   "id": "6767b8b6",
   "metadata": {},
   "outputs": [],
   "source": [
    "fig = plt.figure()\n",
    "\n",
    "plt.plot(t_ns[stride:-1:stride], rmsd_bn[0:-1], lw=0.75)\n",
    "\n",
    "plt.xlabel('Time [ns]')\n",
    "plt.ylabel(r'RMSD [$\\AA$]')\n",
    "plt.title(r'RMSD of the phosphates')\n",
    "plt.ylim(bottom=2)\n",
    "plt.grid()\n",
    "#plt.legend()\n",
    "plt.show()\n",
    "plt.savefig(os.path.join(plotpath, output_name+'rmsd_nucleic.pdf'))"
   ]
  },
  {
   "cell_type": "markdown",
   "id": "d3c0d65c",
   "metadata": {},
   "source": [
    "### RMSD of  interesting protein domains"
   ]
  },
  {
   "cell_type": "code",
   "execution_count": null,
   "id": "4f471d35",
   "metadata": {},
   "outputs": [],
   "source": []
  },
  {
   "cell_type": "markdown",
   "id": "91c83003",
   "metadata": {},
   "source": [
    "## RMSD 2D Map"
   ]
  },
  {
   "cell_type": "code",
   "execution_count": null,
   "id": "4cc946d1",
   "metadata": {},
   "outputs": [],
   "source": [
    "aligner = align.AlignTraj(u, u, select='name CA', in_memory=True).run()\n",
    "matrix = diffusionmap.DistanceMatrix(u, select='name CA').run()"
   ]
  },
  {
   "cell_type": "code",
   "execution_count": null,
   "id": "0332dc7e",
   "metadata": {},
   "outputs": [],
   "source": [
    "plt.figure()\n",
    "plt.imshow(matrix.results.dist_matrix, cmap='viridis')\n",
    "plt.xlabel('Frame')\n",
    "plt.ylabel('Frame')\n",
    "plt.colorbar(label=r'RMSD ($\\AA$)')\n",
    "plt.savefig(os.path.join(plotpath, output_name+'rmsd_map.pdf'))\n",
    "plt.show()"
   ]
  },
  {
   "cell_type": "code",
   "execution_count": null,
   "id": "10ce12e4",
   "metadata": {},
   "outputs": [],
   "source": [
    "bool_arr = matrix.results.dist_matrix>5.0\n",
    "high_rmsd_positions = np.where(bool_arr)[0]\n",
    "print(len(high_rmsd_positions))\n",
    "sum_rmsd = np.sum(bool_arr, axis=1) / nframes\n",
    "\n",
    "plt.clf()\n",
    "plt.plot(t_ns[0:-1:1], sum_rmsd[0:-1], lw=0.75)\n",
    "plt.xlabel('Time [ns]')\n",
    "plt.ylabel(r'RMSD > 5')\n",
    "plt.title(r'Points with high reciprocal RMSD')\n",
    "plt.grid()\n",
    "#plt.legend()\n",
    "plt.show()\n"
   ]
  },
  {
   "cell_type": "markdown",
   "id": "d89158f8",
   "metadata": {},
   "source": [
    "## RMSF\n",
    "\n",
    "\n",
    "$$RMSF_i = \\left[\\frac{1}{T}\\sum_{t_j=1}^T |\\mathbf{r}_i(t_j)-\\mathbf{r}_i|^2\\right]^{1/2}$$\n"
   ]
  },
  {
   "cell_type": "code",
   "execution_count": null,
   "id": "efe5df7d",
   "metadata": {},
   "outputs": [],
   "source": [
    "from MDAnalysis.analysis.rms import RMSF\n",
    "from MDAnalysis.analysis import align\n",
    "from MDAnalysis.coordinates.memory import MemoryReader\n",
    "from MDAnalysis.analysis.base import AnalysisFromFunction"
   ]
  },
  {
   "cell_type": "code",
   "execution_count": null,
   "id": "5eab2079",
   "metadata": {},
   "outputs": [],
   "source": [
    "average = align.AverageStructure(u, u, select='protein and name CA', ref_frame=1).run()\n",
    "ref = average.results.universe\n",
    "aligner = align.AlignTraj(u, ref, select='protein and name CA', in_memory=True).run()"
   ]
  },
  {
   "cell_type": "code",
   "execution_count": null,
   "id": "c1e468e4",
   "metadata": {},
   "outputs": [],
   "source": [
    "c_alphas = u.select_atoms('protein and name CA')\n",
    "R = rms.RMSF(c_alphas, verbose=True).run()"
   ]
  },
  {
   "cell_type": "code",
   "execution_count": null,
   "id": "63d847f1",
   "metadata": {},
   "outputs": [],
   "source": [
    "fig2 = plt.figure()\n",
    "plt.plot(c_alphas.resids, R.results.rmsf, lw=0.8)\n",
    "plt.xlabel('Residue number')\n",
    "plt.ylabel('RMSF ($\\AA$)')\n",
    "#plt.axvspan(30, 59, zorder=0, alpha=0.2, color='green', label='NMP')\n",
    "#plt.legend();\n",
    "plt.grid();\n",
    "plt.show()\n",
    "plt.savefig(os.path.join(plotpath, output_name+'rmsf_ca.pdf'))"
   ]
  },
  {
   "cell_type": "code",
   "execution_count": null,
   "id": "719db764",
   "metadata": {},
   "outputs": [],
   "source": [
    "bool_arr = R.results.rmsf>4\n",
    "high_rmsf_positions = np.where(bool_arr)[0]\n",
    "print(high_rmsf_positions)"
   ]
  },
  {
   "cell_type": "code",
   "execution_count": null,
   "id": "1a6d9ff3",
   "metadata": {},
   "outputs": [],
   "source": [
    "u.add_TopologyAttr('tempfactors') # add empty attribute for all atoms\n",
    "protein = u.select_atoms('protein') # select protein atoms\n",
    "for residue, r_value in zip(protein.residues, R.results.rmsf):\n",
    "    residue.atoms.tempfactors = r_value\n",
    "    #print(residue.atoms.tempfactors)"
   ]
  },
  {
   "cell_type": "code",
   "execution_count": null,
   "id": "211f3b26",
   "metadata": {},
   "outputs": [],
   "source": [
    "# suppress some MDAnalysis warnings about writing PDB files\n",
    "import warnings\n",
    "warnings.filterwarnings('ignore')\n",
    "# save pdb with beta factor data\n",
    "u.atoms.write(os.path.join(datapath, 'rmsf_tempfactors0-40.pdb')) #writes pdb with the beta factors to analysis"
   ]
  },
  {
   "cell_type": "code",
   "execution_count": null,
   "id": "e7c3c3b9",
   "metadata": {},
   "outputs": [],
   "source": [
    "import nglview as nv\n",
    "view = nv.show_mdanalysis(u)\n",
    "view.update_representation(color_scheme='bfactor')\n",
    "view"
   ]
  },
  {
   "cell_type": "code",
   "execution_count": null,
   "id": "0c999e55",
   "metadata": {},
   "outputs": [],
   "source": []
  },
  {
   "cell_type": "code",
   "execution_count": null,
   "id": "344e936c",
   "metadata": {},
   "outputs": [],
   "source": [
    "rmsf1 = RMSF(c_alphas, start=1, stop=nframes//4).run(start=1, stop=nframes//4)\n",
    "rmsf2 = RMSF(c_alphas, start=nframes//4, stop=nframes//2).run(start=nframes//4, stop=nframes//2)\n",
    "rmsf3 = RMSF(c_alphas, start=nframes//2, stop=3*nframes//4).run(start=nframes//2, stop=3*nframes//4)\n",
    "rmsf4 = RMSF(c_alphas, start=3*nframes//4, stop=nframes-1).run(start=3*nframes//4, stop=nframes-1)"
   ]
  },
  {
   "cell_type": "code",
   "execution_count": null,
   "id": "2e7aa007",
   "metadata": {},
   "outputs": [],
   "source": [
    "fig = plt.figure()\n",
    "plt.plot(c_alphas.resnums, rmsf1.results.rmsf, lw=0.7, label='0-50 ns')\n",
    "plt.plot(c_alphas.resnums, rmsf2.results.rmsf, lw=0.7, label='50-100 ns')\n",
    "plt.plot(c_alphas.resnums, rmsf3.results.rmsf, lw=0.7, label='100-150 ns')\n",
    "plt.plot(c_alphas.resnums, rmsf4.results.rmsf, lw=0.7, label='150-200 ns')\n",
    "#plt.axvline(x=59, color='r', lw=0.8)\n",
    "plt.ylim(top=6.5, bottom=0)\n",
    "#plt.xlim(left=0)\n",
    "plt.xlabel('Residue')\n",
    "plt.ylabel('RMSF ($\\AA$)')\n",
    "plt.title(r'RMSF of the $\\alpha$-carbons, during different parts of the simulation')\n",
    "plt.grid()\n",
    "plt.legend(loc=0)\n",
    "plt.show()\n",
    "plt.savefig(os.path.join(plotpath, output_name+'rmsf_part.pdf'))"
   ]
  },
  {
   "cell_type": "code",
   "execution_count": null,
   "id": "9cb2b42a",
   "metadata": {},
   "outputs": [],
   "source": [
    "bool_arr = rmsf3.results.rmsf>4\n",
    "high_rmsf_positions = np.where(bool_arr)[0]\n",
    "print(high_rmsf_positions)"
   ]
  },
  {
   "cell_type": "code",
   "execution_count": null,
   "id": "46c15534",
   "metadata": {},
   "outputs": [],
   "source": [
    "average_prot = align.AverageStructure(u, u, select='protein', ref_frame=1).run()\n",
    "ref_prot = average_prot.results.universe"
   ]
  },
  {
   "cell_type": "code",
   "execution_count": null,
   "id": "12e356d1",
   "metadata": {},
   "outputs": [],
   "source": [
    "# Save aligned trajectory\n",
    "aligner = align.AlignTraj(u, ref_prot,\n",
    "                           select='protein',\n",
    "                           filename='./data/analysis/aligned_prot.dcd',\n",
    "                           in_memory=False).run()\n",
    "prot_al = u.select_atoms(\"protein\")\n",
    "prot_al.write(os.path.join(datapath,'aligned_prot.xtc'), frames='all')\n"
   ]
  },
  {
   "cell_type": "markdown",
   "id": "0456cced",
   "metadata": {},
   "source": [
    "## Radius of gyration\n",
    "\n",
    "$$R_\\mathrm{gyr} = \\sqrt{\\frac{1}{M}\\sum_{i=1}^{N} m_i(\\mathbf{r}_i - \\mathbf{R})^2}$$"
   ]
  },
  {
   "cell_type": "code",
   "execution_count": null,
   "id": "46657349",
   "metadata": {},
   "outputs": [],
   "source": [
    "stride = 1\n",
    "Rgyr = []\n",
    "ca = u.select_atoms(\"backbone\")\n",
    "for ts in u.trajectory[0:nframes-1:stride]:\n",
    "   Rgyr.append(ca.radius_of_gyration())\n",
    "Rgyr = np.array(Rgyr)\n",
    "\n",
    "rel_diff = (max(Rgyr) - min(Rgyr))/10\n",
    "print(len(ca))"
   ]
  },
  {
   "cell_type": "code",
   "execution_count": null,
   "id": "7906eb96",
   "metadata": {},
   "outputs": [],
   "source": [
    "fig = plt.figure()\n",
    "ax = plt.subplot(111)\n",
    "ax.plot(t_ns[0:nframes-1:stride], Rgyr, lw=0.8, label=r\"$R_G$\")\n",
    "ax.set_xlabel(\"time (ns)\")\n",
    "ax.set_ylabel(r\"radius of gyration $R_G$ ($\\AA$)\")\n",
    "plt.grid()\n",
    "ax.figure.savefig(plotpath+output_name+\"Rgyr_ca.pdf\")"
   ]
  },
  {
   "cell_type": "code",
   "execution_count": null,
   "id": "1440b14e",
   "metadata": {},
   "outputs": [],
   "source": []
  },
  {
   "cell_type": "code",
   "execution_count": null,
   "id": "1545abc8",
   "metadata": {},
   "outputs": [],
   "source": []
  },
  {
   "cell_type": "code",
   "execution_count": null,
   "id": "93335db2",
   "metadata": {},
   "outputs": [],
   "source": []
  }
 ],
 "metadata": {
  "kernelspec": {
   "display_name": "mdanal",
   "language": "python",
   "name": "mdanal"
  },
  "language_info": {
   "codemirror_mode": {
    "name": "ipython",
    "version": 3
   },
   "file_extension": ".py",
   "mimetype": "text/x-python",
   "name": "python",
   "nbconvert_exporter": "python",
   "pygments_lexer": "ipython3",
   "version": "3.9.7"
  }
 },
 "nbformat": 4,
 "nbformat_minor": 5
}
