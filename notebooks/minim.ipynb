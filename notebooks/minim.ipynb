{
 "cells": [
  {
   "cell_type": "code",
   "execution_count": 2,
   "metadata": {},
   "outputs": [],
   "source": [
    "import numpy as np\n",
    "import pandas as pd\n",
    "import scipy as sp\n",
    "import matplotlib.pyplot as plt\n"
   ]
  },
  {
   "cell_type": "code",
   "execution_count": 38,
   "metadata": {},
   "outputs": [
    {
     "name": "stdout",
     "output_type": "stream",
     "text": [
      "           t             E\n",
      "0        0.0  1.984713e+06\n",
      "1        1.0  1.956090e+06\n",
      "2        2.0  1.930510e+06\n",
      "3        3.0  1.905507e+06\n",
      "4        4.0  1.876437e+06\n",
      "...      ...           ...\n",
      "2065  2606.0 -7.006799e+05\n",
      "2066  2607.0 -7.007058e+05\n",
      "2067  2608.0 -7.007282e+05\n",
      "2068  2609.0 -7.007339e+05\n",
      "2069  2611.0 -7.008724e+05\n",
      "\n",
      "[2070 rows x 2 columns]\n"
     ]
    },
    {
     "name": "stderr",
     "output_type": "stream",
     "text": [
      "/tmp/ipykernel_32446/1948985125.py:1: ParserWarning: Falling back to the 'python' engine because the 'c' engine does not support regex separators (separators > 1 char and different from '\\s+' are interpreted as regex); you can avoid this warning by specifying engine='python'.\n",
      "  E1 = pd.read_csv('energy.xvg', delimiter = '  ')\n"
     ]
    }
   ],
   "source": [
    "E1 = pd.read_csv('energy.xvg', delimiter = '  ')\n",
    "print(E1)"
   ]
  },
  {
   "cell_type": "code",
   "execution_count": 41,
   "metadata": {},
   "outputs": [
    {
     "data": {
      "text/plain": [
       "Text(0, 0.5, 'V [kcal/mol]')"
      ]
     },
     "execution_count": 41,
     "metadata": {},
     "output_type": "execute_result"
    },
    {
     "data": {
      "image/png": "[encoded data removed]",
      "text/plain": [
       "<Figure size 432x288 with 1 Axes>"
      ]
     },
     "metadata": {
      "needs_background": "light"
     },
     "output_type": "display_data"
    }
   ],
   "source": [
    "ax = E1.plot(x='t', y=' E')\n",
    "#ax.axhline(mean, color='black', label=\"TOTAL mean\")\n",
    "#E_all.plot(x='t [ns]', y='TOTAL_rolling', ax=ax, color='red')\n",
    "plt.ylabel(\"V [kcal/mol]\")"
   ]
  },
  {
   "cell_type": "code",
   "execution_count": 34,
   "metadata": {},
   "outputs": [
    {
     "data": {
      "image/png": "[encoded data removed]",
      "text/plain": [
       "<Figure size 432x288 with 1 Axes>"
      ]
     },
     "metadata": {
      "needs_background": "light"
     },
     "output_type": "display_data"
    }
   ],
   "source": [
    "plt.plot(E1.index, E1['E'])\n",
    "plt.show()"
   ]
  },
  {
   "cell_type": "code",
   "execution_count": null,
   "metadata": {},
   "outputs": [],
   "source": []
  }
 ],
 "metadata": {
  "kernelspec": {
   "display_name": "Python 3.8 (ipykernel)",
   "language": "python",
   "name": "python3.8"
  },
  "language_info": {
   "codemirror_mode": {
    "name": "ipython",
    "version": 3
   },
   "file_extension": ".py",
   "mimetype": "text/x-python",
   "name": "python",
   "nbconvert_exporter": "python",
   "pygments_lexer": "ipython3",
   "version": "3.8.12"
  }
 },
 "nbformat": 4,
 "nbformat_minor": 2
}
